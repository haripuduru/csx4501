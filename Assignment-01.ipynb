{
 "cells": [
  {
   "cell_type": "markdown",
   "id": "53a75286-8e9a-4574-a9cd-deadf632e1d1",
   "metadata": {},
   "source": [
    "# Instructions"
   ]
  },
  {
   "cell_type": "markdown",
   "id": "64e3cf6e-cf51-4531-baa3-c576b50d555b",
   "metadata": {},
   "source": [
    "The following assignment is intended to help you gain familiarity with the some software infrastructure and to help you practice (potentially completely new) Python skills.\n",
    "\n",
    "It's not intended to make you tear your hair out in consternation!  If you want hints or guidance on the basics, please post in Slack\n",
    "\n",
    "1. Join our Slack channel\n",
    "    * [click here if you need the link to join](https://join.slack.com/t/slack-rwi6743/shared_invite/zt-1batoi4rr-fTrKMVOAWFYqTOYm8bOkEQ)\n",
    "1. Make a new repository on GitHub to store assignments from this class.\n",
    "    * Go to GitHub (https://github.com) and log in. \n",
    "        * Create a GitHub account if you need one \n",
    "    * Click on \"Repositories\" and \"New\" \n",
    "    * Name your repo \"csx4501\", make it public, and select the \"Add a README file\" option\n",
    "    * Clone the new repo to your computer\n",
    "        * e.g. by using the GitHub Desktop application (https://desktop.github.com/)\n",
    "1. Copy this assignment file into the folder you just cloned.\n",
    "1. Carry out the subsequent exercises (below) in that file and save it.\n",
    "    * You will need to have Python and Jupyter installed on your computer.\n",
    "    * Contact me if you're having difficulties.\n",
    "1. Customize your repo's README file\n",
    "    * Go to the folder on your computer with the cloned files\n",
    "    * Open the README in a text editor\n",
    "    * Add a profile of yourself, a description of the course, project ideas, and your objectives for the class.\n",
    "    * Style your text\n",
    "        * Here's one [markdown guide](https://guides.github.com/features/mastering-markdown) for guidance\n",
    "1. Push your completed assignment and README files to your GitHub repository\n",
    "    1. In GitHub Desktop app, make sure that the \"Current Repository\" shown at the top is your new csx4501 repository\n",
    "    1. The changed files should show up on the left.\n",
    "    1. Add a commit summary and description on the bottom-left, then click the blue Commit button.\n",
    "    1. In the main window, click the blue button \"Push origin\" to push your changed files to GitHub.\n",
    "    1. After you push successfully, verify that your files are in your GitHub repository by visiting the website for your repository\n",
    "1. Finish the assignment by submitting a link to your GitHub repository on the Canvas site"
   ]
  },
  {
   "cell_type": "markdown",
   "id": "49b9267a-d050-4671-a643-1103fd47c690",
   "metadata": {},
   "source": [
    "# Python exercises"
   ]
  },
  {
   "cell_type": "code",
   "execution_count": 15,
   "id": "31728919-ffb3-44c6-ba97-d00489c96274",
   "metadata": {},
   "outputs": [
    {
     "name": "stdout",
     "output_type": "stream",
     "text": [
      "Addition of two numbers is: 5\n",
      "Addition of three numbers is: 6\n",
      "Addition of four numbers is: 830\n",
      "subtraction of two numbers: 17\n",
      "subtraction of three numbers: 70\n",
      "subtraction of four numbers: -129\n",
      "Multiplication of two numbers: 90\n",
      "Multiplication of three numbers: 900\n",
      "Multiplication of four numbers: 420000\n",
      "Division of two numbers: 10.666666666666666\n",
      "Division of three numbers: 5.0\n",
      "Division of Four numbers: 40.0\n",
      "reminder of two numbers: 2\n",
      "reminder of three numbers: 0\n",
      "reminder of four numbers: 1\n"
     ]
    }
   ],
   "source": [
    "# Do at least three mathematical calculations with `+`, `-`, `*`, `/`, and/or `%`.\n",
    "#using '+' symbol for addition\n",
    "print(\"Addition of two numbers is:\",2+3)\n",
    "print('Addition of three numbers is:',1+2+3)\n",
    "print(\"Addition of four numbers is:\", 10+20+300+500)\n",
    "\n",
    "#using '-' symbol for subtraction\n",
    "print(\"subtraction of two numbers:\",67-50)\n",
    "print(\"subtraction of three numbers:\",200-50-80)\n",
    "print(\"subtraction of four numbers:\",67-50-56-90)\n",
    "\n",
    "#using '*' symbol for multiplication\n",
    "print(\"Multiplication of two numbers:\",30*3)\n",
    "print(\"Multiplication of three numbers:\",60*3*5)\n",
    "print(\"Multiplication of four numbers:\",70*50*60*2)\n",
    "\n",
    "#using '/' symbol for Division\n",
    "\n",
    "print(\"Division of two numbers:\",32/3)\n",
    "print(\"Division of three numbers:\",30/3/2)\n",
    "print(\"Division of Four numbers:\",12000/30/5/2)\n",
    "\n",
    "#using `%` symbol to find reminder\n",
    "print(\"reminder of two numbers:\",32%3)\n",
    "print(\"reminder of three numbers:\",300%3%2)\n",
    "print(\"reminder of four numbers:\",400%3%2%5)\n"
   ]
  },
  {
   "cell_type": "code",
   "execution_count": 28,
   "id": "8fe34a6d-a4f7-4111-a95a-257a7de52103",
   "metadata": {},
   "outputs": [
    {
     "name": "stdin",
     "output_type": "stream",
     "text": [
      "Enter a number: 6\n"
     ]
    },
    {
     "name": "stdout",
     "output_type": "stream",
     "text": [
      "a is Even\n"
     ]
    }
   ],
   "source": [
    "# Assign a number to the variable `a`,\n",
    "# do a mathematical calculation to determine whether a is odd or even,\n",
    "# and print out either \"a is even\" or \"a is odd\" as appropriate.\n",
    "\n",
    "a= int(input(\"Enter a number:\"))\n",
    "if a%2==0:\n",
    "    print(\"a is Even\")\n",
    "else:\n",
    "    print(\"a is Odd\")\n"
   ]
  },
  {
   "cell_type": "code",
   "execution_count": 55,
   "id": "a70653e6-0a18-4155-8b4b-c6835f72e4e6",
   "metadata": {},
   "outputs": [
    {
     "name": "stdout",
     "output_type": "stream",
     "text": [
      "[1, 1, 2, 3, 5, 8, 13, 21, 34, 55, 89]\n",
      "1\n",
      "8\n",
      "89\n",
      "11\n",
      "1\n",
      "1\n",
      "2\n",
      "3\n",
      "5\n",
      "8\n",
      "13\n",
      "21\n",
      "34\n",
      "55\n",
      "89\n",
      "1\n",
      "1\n",
      "2\n",
      "3\n",
      "5\n",
      "[89, 55, 34, 21, 13, 8, 5, 3, 2, 1, 1]\n",
      "[1, 1, 2, 3, 5, 8, 13, 21, 34, 55, 89, 144]\n"
     ]
    }
   ],
   "source": [
    "# Using the given list,\n",
    "# 1. print the list\n",
    "# 2. print the 0th element \n",
    "# 3. print the 5th element \n",
    "# 4. print the last element \n",
    "# 5. print the length\n",
    "#        look at https://python.readthedocs.io/en/stable/library/functions.html\n",
    "#        specifically `len()`\n",
    "# 6. print all the elements\n",
    "# 7. print all the elements less than 8\n",
    "# 8. print out the elements in reverse order\n",
    "#        look at https://python-reference.readthedocs.io/en/latest/docs/list/\n",
    "#        specifically `reverse`\n",
    "# 9. append the next fibonacci number and print out the new list\n",
    "#        look again at the docs, this time for `append`\n",
    "#        [elements in the fibonacci sequence are equal to the sum of the previous two elements]\n",
    "\n",
    "a = [1, 1, 2, 3, 5, 8, 13, 21, 34, 55, 89]\n",
    "\n",
    "# 1. print the list\n",
    "print(a)\n",
    "\n",
    "# 2. print the 0th element\n",
    "print(a[0])\n",
    "\n",
    "# 3. print the 5th element \n",
    "print(a[5])\n",
    "\n",
    "# 4. print the last element\n",
    "print(a[len(a)-1])\n",
    "\n",
    "# 5. print the length\n",
    "print(len(a))\n",
    "\n",
    "# 6. print all the elements\n",
    "for i in a:\n",
    "    print(i)\n",
    "\n",
    "# 7. print all the elements less than 8\n",
    "for j in a:\n",
    "    if j< 8:\n",
    "        print(j)\n",
    "        \n",
    "# 8. print out the elements in reverse order\n",
    "a.reverse()\n",
    "print(a)\n",
    "\n",
    "# 9. append the next fibonacci number and print out the new list\n",
    "a.reverse()\n",
    "a.append(a[len(a)-1]+a[len(a)-2])\n",
    "print(a)"
   ]
  },
  {
   "cell_type": "code",
   "execution_count": 82,
   "id": "22203dab-ac71-45fa-9922-c649c7810488",
   "metadata": {},
   "outputs": [
    {
     "name": "stdout",
     "output_type": "stream",
     "text": [
      "{1, 2, 3, 5, 8, 13}\n",
      "{4, 6, 7, 9, 10, 11, 12, 34, 21, 55, 89}\n"
     ]
    }
   ],
   "source": [
    "# Using the below lists\n",
    "# 1. print out all the elements that are contained in both lists\n",
    "# 2. print out the elements that are contained in either list a or list b but not both\n",
    "\n",
    "\n",
    "a = [1, 1, 2, 3, 5, 8, 13, 21, 34, 55, 89]\n",
    "b = [1, 2, 3, 4, 5, 6, 7, 8, 9, 10, 11, 12, 13]  \n",
    "\n",
    "# 1. print out all the elements that are contained in both lists\n",
    "\n",
    "\n",
    "def common_elements(a,b):\n",
    "    lista =set(a)\n",
    "    listb = set(b)\n",
    "    if(lista & listb):\n",
    "        print(lista & listb)\n",
    " \n",
    "common_elements(a,b)\n",
    "\n",
    "# 2. print out the elements that are contained in either list a or list b but not both\n",
    "\n",
    "def uncommon_elements(a,b):\n",
    "    lista =set(a)\n",
    "    listb = set(b)\n",
    "    print(lista ^ listb)\n",
    " \n",
    "uncommon_elements(a,b)\n",
    "        \n",
    "\n",
    "\n",
    "    "
   ]
  },
  {
   "cell_type": "code",
   "execution_count": 92,
   "id": "ad4f7b2a-5cc1-4a65-a5b5-1f2994f42fab",
   "metadata": {},
   "outputs": [
    {
     "name": "stdout",
     "output_type": "stream",
     "text": [
      "{'January': 7, 'February': 8, 'March': 5, 'April': 5, 'June': 4}\n",
      "5\n",
      "January has 7 Letters\n",
      "February has 8 Letters\n",
      "March has 5 Letters\n",
      "April has 5 Letters\n",
      "June has 4 Letters\n"
     ]
    }
   ],
   "source": [
    "# Using the below dictionary\n",
    "# add a new item to the dictionary,\n",
    "# print an element from the dictionary,\n",
    "# print out the message \"<key> has <value> letters\" for every <key>/<value> pair\n",
    "\n",
    "a = {'January': 7, 'February': 8, 'March': 5, 'April': 5}\n",
    "\n",
    "# add a new item to the dictionary,\n",
    "\n",
    "a['June'] = 4\n",
    "print(a)\n",
    "\n",
    "# print an element from the dictionary,\n",
    "\n",
    "print(a['March'])\n",
    "\n",
    "# print out the message \"<key> has <value> letters\" for every <key>/<value> pair\n",
    "\n",
    "for k,v in a.items():\n",
    "    print (k, 'has', v,'Letters')\n"
   ]
  },
  {
   "cell_type": "code",
   "execution_count": 104,
   "id": "3005621c-e50c-436a-a033-9aadae71eafb",
   "metadata": {},
   "outputs": [
    {
     "name": "stdout",
     "output_type": "stream",
     "text": [
      "first example\n",
      "second example\n",
      "Third example\n"
     ]
    },
    {
     "data": {
      "text/plain": [
       "[12, 52]"
      ]
     },
     "execution_count": 104,
     "metadata": {},
     "output_type": "execute_result"
    }
   ],
   "source": [
    "# Write a function that takes as input a list of numbers \n",
    "# and prints a new list of only the first and last elements of the given list.\n",
    "# Execute it with several examples.\n",
    "\n",
    "def first_last(x,list1=[]):\n",
    "    \n",
    "       list1 =[x[0],x[len(x)-1]]\n",
    "       return list1\n",
    "       \n",
    "print('first example')\n",
    "first_last([1,2,3,4,5,89,78])\n",
    "print('second example')\n",
    "first_last([55,88,77,66,44,33])\n",
    "print('Third example')\n",
    "first_last([12,22,32,42,52])\n",
    "\n"
   ]
  },
  {
   "cell_type": "code",
   "execution_count": 115,
   "id": "4a607e0a-2e1b-4e44-af40-4571f2e0b4f0",
   "metadata": {},
   "outputs": [
    {
     "name": "stdout",
     "output_type": "stream",
     "text": [
      "True\n",
      "True\n",
      "True\n",
      "False\n"
     ]
    }
   ],
   "source": [
    "# Write a function that takes a string as input\n",
    "# and prints out \"Yes\" or \"No\" depending on whether the\n",
    "# string is a palindrome (spelled the same forwards and backwards).  \n",
    "# Execute it with several examples.\n",
    "\n",
    "def is_palindrome(string):\n",
    "    string = string.lower().replace(' ','')\n",
    "    return string==string[::-1]\n",
    "\n",
    "print(is_palindrome('Malayalam'))\n",
    "print(is_palindrome('123454321'))\n",
    "print(is_palindrome('was it a car or a cat i saw'))\n",
    "print(is_palindrome('I am a good boy'))\n",
    "\n"
   ]
  },
  {
   "cell_type": "markdown",
   "id": "86f9df9a-822a-42be-a778-541173a4fefe",
   "metadata": {},
   "source": [
    "Check out the Python documentation for `random` and `string`:\n",
    "* https://python.readthedocs.io/en/stable/library/random.html\n",
    "* https://python.readthedocs.io/en/stable/library/string.html\n",
    "\n",
    "It's overkill for what you need here, but if you search for the specific attributes and methods mentioned below, you will be able to find useful information."
   ]
  },
  {
   "cell_type": "code",
   "execution_count": 128,
   "id": "c221f184-1e0b-491f-97a8-f9fb30458926",
   "metadata": {},
   "outputs": [
    {
     "name": "stdout",
     "output_type": "stream",
     "text": [
      "0.010056490607308621\n",
      "0.6001775022029465\n",
      "0.6257055356691645\n"
     ]
    }
   ],
   "source": [
    "# Write a function that sets a random seed and prints three random numbers between 0 and 1\n",
    "# You may find it useful to look up:\n",
    "# random.seed and random.random\n",
    "import random\n",
    "def rand():\n",
    "    random.seed()\n",
    "    print(random.random())\n",
    "rand()\n",
    "rand()\n",
    "rand()\n",
    "\n"
   ]
  },
  {
   "cell_type": "code",
   "execution_count": 145,
   "id": "fc7c0629-729b-4c7e-9edb-266fbacb3be7",
   "metadata": {},
   "outputs": [
    {
     "name": "stdout",
     "output_type": "stream",
     "text": [
      "a\n",
      "dkvj\n",
      "jzajb0uGE3\n"
     ]
    }
   ],
   "source": [
    "# Write a function that takes an integer as input\n",
    "# and prints a random alphabetical character, alphabetical string,\n",
    "# and alphabetical string of a fixed length equal to the input integer.\n",
    "# You may find it useful to look up:\n",
    "# string.ascii_letters, random.randint, random.choice\n",
    "\n",
    "import random\n",
    "import string\n",
    "#print(string.ascii_letters)\n",
    "#print(string.digits)\n",
    "\n",
    "#print(random.randint(2,10))\n",
    "\n",
    "# and prints a random alphabetical character\n",
    "\n",
    "def rand_char():\n",
    "    print(random.choice(string.ascii_letters))\n",
    "    \n",
    "#results\n",
    "rand_char()\n",
    "\n",
    "#random alphabetical string\n",
    "def rand_string():\n",
    "    \n",
    "     # Takes random choices from\n",
    "     # ascii_letters and digits\n",
    "     generate_string = ''.join([random.choice(string.ascii_letters) for n in range(random.randint(2,10))])\n",
    "     print (generate_string)\n",
    "\n",
    "rand_string()\n",
    "\n",
    "# and alphabetical string of a fixed length equal to the input integer.\n",
    "def rand_str(size):\n",
    "     # Takes random choices from\n",
    "     # ascii_letters and digits\n",
    "     generate_str = ''.join([random.choice(\n",
    "                         string.ascii_letters + string.digits)\n",
    "                         for n in range(size)])\n",
    "\n",
    "     return generate_str\n",
    "   \n",
    "\n",
    "#printing results\n",
    "print(rand_str(10))\n",
    "\n",
    "\n",
    "\n",
    "\n"
   ]
  },
  {
   "cell_type": "code",
   "execution_count": 148,
   "id": "c738c817-00aa-4597-b5c8-f38af11275cb",
   "metadata": {},
   "outputs": [
    {
     "name": "stdout",
     "output_type": "stream",
     "text": [
      "['A', 'computer', 'program', 'is', 'said', 'to', 'learn', 'from', 'experience', 'E', 'with', 'respect', 'to', 'some', 'class', 'of', 'tasks', 'T', 'and', 'performance', 'measure', 'P', 'if', 'its', 'performance', 'at', 'tasks', 'in', 'T', 'as', 'measured', 'by', 'P', 'improves', 'with', 'experience', 'E.']\n"
     ]
    }
   ],
   "source": [
    "# Print the words in the following sentence that are longer than 6 characters\n",
    "# Note: you may find it useful to look at \n",
    "# `split` in https://python-reference.readthedocs.io/en/latest/docs/str/\n",
    "\n",
    "ml_sentence = '''\n",
    "A computer program is said to learn \n",
    "from experience E with respect to some class of tasks T \n",
    "and performance measure P if its performance at tasks in T \n",
    "as measured by P improves with experience E.\n",
    "'''\n",
    "list1 = ml_sentence.split()\n",
    "print(list1)\n"
   ]
  },
  {
   "cell_type": "code",
   "execution_count": 153,
   "id": "25e1bc45-95db-4e39-8abf-614660bc17ba",
   "metadata": {},
   "outputs": [
    {
     "name": "stdout",
     "output_type": "stream",
     "text": [
      "with\n",
      "experience\n",
      "its\n",
      "some\n",
      "respect\n"
     ]
    }
   ],
   "source": [
    "# Print 5 random words from following sentence:\n",
    "import random\n",
    "\n",
    "ml_sentence = '''\n",
    "A computer program is said to learn \n",
    "from experience E with respect to some class of tasks T \n",
    "and performance measure P if its performance at tasks in T \n",
    "as measured by P improves with experience E.\n",
    "'''\n",
    "list2 = ml_sentence.split()\n",
    "for n in range(5):\n",
    "    print(random.choice(list2))\n"
   ]
  },
  {
   "cell_type": "code",
   "execution_count": null,
   "id": "8ef4c496-014c-4459-941d-afb431501191",
   "metadata": {},
   "outputs": [],
   "source": [
    "# Using the above 'ml_sentence', make a dictionary with\n",
    "# the dictionary keys equal to the unique words in the sentence,\n",
    "# and the value for each key equal to the number of times each word occurs.\n",
    "# e.g. 'hello my hello friend' would lead to the dictionary {'hello': 2, 'my': 1, 'friend': 1}\n",
    "\n",
    "string = '''\n",
    "A computer program is said to learn \n",
    "from experience E with respect to some class of tasks T \n",
    "and performance measure P if its performance at tasks in T \n",
    "as measured by P improves with experience E.\n",
    "'''\n",
    "\n",
    "def wordFrequency(string):\n",
    "    # converting the string into lowercase\n",
    "    string=string.lower()\n",
    "    # Whenever we encounter a space, break the string\n",
    "    string=string.split()\n",
    "    # Initializing a dictionary to store the frequency of words\n",
    "    word_frequency={}\n",
    "    \n",
    "    for i in string:\n",
    "     \n",
    "    # If the word is already in the keys, increment its frequency\n",
    "        if i in word_frequency:\n",
    "            word_frequency[i]+=1\n",
    "             \n",
    "    # It means that this is the first occurence of the word\n",
    "        else:\n",
    "            word_frequency[i]=1\n",
    "    return(word_frequency)\n",
    " \n",
    "\n",
    "print(wordFrequency(string))\n",
    "\n"
   ]
  },
  {
   "cell_type": "code",
   "execution_count": null,
   "id": "24a8a261-a308-4c3f-81a1-5af84860dc08",
   "metadata": {},
   "outputs": [],
   "source": [
    "import nltk\n",
    "nltk.download()"
   ]
  },
  {
   "cell_type": "code",
   "execution_count": null,
   "id": "33eaaa90-e336-4367-b072-58a8a71dada8",
   "metadata": {},
   "outputs": [],
   "source": [
    "# Time to roll up our sleeves and make a similar dictionary for all the words in Macbeth.\n",
    "# I am going to do the first part (and you can execute this cell as is to see what happens),\n",
    "# you just need to adapt your code from above to make the dictionary at the end\n",
    "\n",
    "# Here we import libraries that can grab data from the web (via requests) and form a list of words using NLTK.\n",
    "\n",
    "\n",
    "\n",
    "# Here we get the text of Macbeth from Project Gutenberg (https://www.gutenberg.org/) \n",
    "# and \"tokenize\" the text (split it up into words)\n",
    "import requests\n",
    "import nltk\n",
    "nltk.download('punkt')\n",
    "from nltk.tokenize import  word_tokenize\n",
    "url = \"https://www.gutenberg.org/files/1533/1533-0.txt\"\n",
    "response = requests.get(url)\n",
    "text_string = response.text\n",
    "text_string = text_string.lower()\n",
    "text_words = word_tokenize(text_string)\n",
    "def wordFrequency(string):\n",
    "    word_frequency={}\n",
    "    \n",
    "    for i in string:\n",
    "     \n",
    "    # If the word is already in the keys, increment its frequency\n",
    "        if i in word_frequency:\n",
    "            word_frequency[i]+=1\n",
    "             \n",
    "    # It means that this is the first occurence of the word\n",
    "        else:\n",
    "            word_frequency[i]=1\n",
    "    return(word_frequency)\n",
    " \n",
    "# Put in your code here to make the dictionary with the <word> : <word counts> pairs\n",
    "print(wordFrequency(text_words))\n",
    "\n",
    "\n",
    "\n",
    "\n",
    "# Check out some entries in the dictionary (such as 'Macbeth', 'sword', 'thy')\n",
    "\n"
   ]
  },
  {
   "cell_type": "markdown",
   "id": "4940bcc8-b6db-4ddd-a0ec-3dcdf5fa4183",
   "metadata": {},
   "source": [
    "# End"
   ]
  },
  {
   "cell_type": "code",
   "execution_count": null,
   "id": "16832919-ccc3-447e-9a36-d5183833221c",
   "metadata": {},
   "outputs": [],
   "source": []
  }
 ],
 "metadata": {
  "kernelspec": {
   "display_name": "Python 3 (ipykernel)",
   "language": "python",
   "name": "python3"
  },
  "language_info": {
   "codemirror_mode": {
    "name": "ipython",
    "version": 3
   },
   "file_extension": ".py",
   "mimetype": "text/x-python",
   "name": "python",
   "nbconvert_exporter": "python",
   "pygments_lexer": "ipython3",
   "version": "3.9.7"
  }
 },
 "nbformat": 4,
 "nbformat_minor": 5
}
