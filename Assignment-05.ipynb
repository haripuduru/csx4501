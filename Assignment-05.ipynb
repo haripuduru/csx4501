{
 "cells": [
  {
   "cell_type": "code",
   "execution_count": 1,
   "id": "01615962-7f2d-493f-9bac-d39499c03c12",
   "metadata": {},
   "outputs": [
    {
     "data": {
      "text/html": [
       "<div>\n",
       "<style scoped>\n",
       "    .dataframe tbody tr th:only-of-type {\n",
       "        vertical-align: middle;\n",
       "    }\n",
       "\n",
       "    .dataframe tbody tr th {\n",
       "        vertical-align: top;\n",
       "    }\n",
       "\n",
       "    .dataframe thead th {\n",
       "        text-align: right;\n",
       "    }\n",
       "</style>\n",
       "<table border=\"1\" class=\"dataframe\">\n",
       "  <thead>\n",
       "    <tr style=\"text-align: right;\">\n",
       "      <th></th>\n",
       "      <th>Dimensions.Height</th>\n",
       "      <th>Dimensions.Length</th>\n",
       "      <th>Dimensions.Width</th>\n",
       "      <th>Engine Information.Number of Forward Gears</th>\n",
       "      <th>Fuel Information.City mpg</th>\n",
       "      <th>Fuel Information.Highway mpg</th>\n",
       "      <th>Identification.Year</th>\n",
       "      <th>Engine Information.Engine Statistics.Horsepower</th>\n",
       "      <th>Engine Information.Engine Statistics.Torque</th>\n",
       "    </tr>\n",
       "  </thead>\n",
       "  <tbody>\n",
       "    <tr>\n",
       "      <th>count</th>\n",
       "      <td>5076.000000</td>\n",
       "      <td>5076.000000</td>\n",
       "      <td>5076.000000</td>\n",
       "      <td>5076.000000</td>\n",
       "      <td>5076.000000</td>\n",
       "      <td>5076.000000</td>\n",
       "      <td>5076.000000</td>\n",
       "      <td>5076.000000</td>\n",
       "      <td>5076.000000</td>\n",
       "    </tr>\n",
       "    <tr>\n",
       "      <th>mean</th>\n",
       "      <td>145.632191</td>\n",
       "      <td>127.825847</td>\n",
       "      <td>144.012411</td>\n",
       "      <td>5.519110</td>\n",
       "      <td>17.275808</td>\n",
       "      <td>24.125493</td>\n",
       "      <td>2010.867612</td>\n",
       "      <td>270.499409</td>\n",
       "      <td>272.707250</td>\n",
       "    </tr>\n",
       "    <tr>\n",
       "      <th>std</th>\n",
       "      <td>62.125026</td>\n",
       "      <td>77.358295</td>\n",
       "      <td>79.925899</td>\n",
       "      <td>0.845637</td>\n",
       "      <td>4.479485</td>\n",
       "      <td>6.488293</td>\n",
       "      <td>0.782951</td>\n",
       "      <td>95.293537</td>\n",
       "      <td>100.123328</td>\n",
       "    </tr>\n",
       "    <tr>\n",
       "      <th>min</th>\n",
       "      <td>1.000000</td>\n",
       "      <td>2.000000</td>\n",
       "      <td>1.000000</td>\n",
       "      <td>4.000000</td>\n",
       "      <td>8.000000</td>\n",
       "      <td>11.000000</td>\n",
       "      <td>2009.000000</td>\n",
       "      <td>100.000000</td>\n",
       "      <td>98.000000</td>\n",
       "    </tr>\n",
       "    <tr>\n",
       "      <th>25%</th>\n",
       "      <td>104.000000</td>\n",
       "      <td>60.000000</td>\n",
       "      <td>62.000000</td>\n",
       "      <td>5.000000</td>\n",
       "      <td>14.000000</td>\n",
       "      <td>20.000000</td>\n",
       "      <td>2010.000000</td>\n",
       "      <td>190.000000</td>\n",
       "      <td>187.000000</td>\n",
       "    </tr>\n",
       "    <tr>\n",
       "      <th>50%</th>\n",
       "      <td>152.000000</td>\n",
       "      <td>128.000000</td>\n",
       "      <td>158.000000</td>\n",
       "      <td>6.000000</td>\n",
       "      <td>17.000000</td>\n",
       "      <td>24.000000</td>\n",
       "      <td>2011.000000</td>\n",
       "      <td>266.000000</td>\n",
       "      <td>260.000000</td>\n",
       "    </tr>\n",
       "    <tr>\n",
       "      <th>75%</th>\n",
       "      <td>193.000000</td>\n",
       "      <td>198.000000</td>\n",
       "      <td>219.000000</td>\n",
       "      <td>6.000000</td>\n",
       "      <td>20.000000</td>\n",
       "      <td>28.000000</td>\n",
       "      <td>2011.000000</td>\n",
       "      <td>317.000000</td>\n",
       "      <td>335.000000</td>\n",
       "    </tr>\n",
       "    <tr>\n",
       "      <th>max</th>\n",
       "      <td>255.000000</td>\n",
       "      <td>255.000000</td>\n",
       "      <td>254.000000</td>\n",
       "      <td>8.000000</td>\n",
       "      <td>38.000000</td>\n",
       "      <td>223.000000</td>\n",
       "      <td>2012.000000</td>\n",
       "      <td>638.000000</td>\n",
       "      <td>774.000000</td>\n",
       "    </tr>\n",
       "  </tbody>\n",
       "</table>\n",
       "</div>"
      ],
      "text/plain": [
       "       Dimensions.Height  Dimensions.Length  Dimensions.Width  \\\n",
       "count        5076.000000        5076.000000       5076.000000   \n",
       "mean          145.632191         127.825847        144.012411   \n",
       "std            62.125026          77.358295         79.925899   \n",
       "min             1.000000           2.000000          1.000000   \n",
       "25%           104.000000          60.000000         62.000000   \n",
       "50%           152.000000         128.000000        158.000000   \n",
       "75%           193.000000         198.000000        219.000000   \n",
       "max           255.000000         255.000000        254.000000   \n",
       "\n",
       "       Engine Information.Number of Forward Gears  Fuel Information.City mpg  \\\n",
       "count                                 5076.000000                5076.000000   \n",
       "mean                                     5.519110                  17.275808   \n",
       "std                                      0.845637                   4.479485   \n",
       "min                                      4.000000                   8.000000   \n",
       "25%                                      5.000000                  14.000000   \n",
       "50%                                      6.000000                  17.000000   \n",
       "75%                                      6.000000                  20.000000   \n",
       "max                                      8.000000                  38.000000   \n",
       "\n",
       "       Fuel Information.Highway mpg  Identification.Year  \\\n",
       "count                   5076.000000          5076.000000   \n",
       "mean                      24.125493          2010.867612   \n",
       "std                        6.488293             0.782951   \n",
       "min                       11.000000          2009.000000   \n",
       "25%                       20.000000          2010.000000   \n",
       "50%                       24.000000          2011.000000   \n",
       "75%                       28.000000          2011.000000   \n",
       "max                      223.000000          2012.000000   \n",
       "\n",
       "       Engine Information.Engine Statistics.Horsepower  \\\n",
       "count                                      5076.000000   \n",
       "mean                                        270.499409   \n",
       "std                                          95.293537   \n",
       "min                                         100.000000   \n",
       "25%                                         190.000000   \n",
       "50%                                         266.000000   \n",
       "75%                                         317.000000   \n",
       "max                                         638.000000   \n",
       "\n",
       "       Engine Information.Engine Statistics.Torque  \n",
       "count                                  5076.000000  \n",
       "mean                                    272.707250  \n",
       "std                                     100.123328  \n",
       "min                                      98.000000  \n",
       "25%                                     187.000000  \n",
       "50%                                     260.000000  \n",
       "75%                                     335.000000  \n",
       "max                                     774.000000  "
      ]
     },
     "execution_count": 1,
     "metadata": {},
     "output_type": "execute_result"
    }
   ],
   "source": [
    "#importing required python libraries\n",
    "import pandas as pd\n",
    "import numpy as np\n",
    "import seaborn as sns\n",
    "import matplotlib.pyplot as plt\n",
    "\n",
    "#reading cars data into pandas data frame\n",
    "df = pd.read_csv('cars.csv')\n",
    "\n",
    "\n",
    "\n",
    "#decribing the data using describe() method\n",
    "df.describe()\n",
    "\n"
   ]
  },
  {
   "cell_type": "code",
   "execution_count": 2,
   "id": "4905bdb2-e67f-4114-8008-159a33e0a00e",
   "metadata": {},
   "outputs": [
    {
     "name": "stdout",
     "output_type": "stream",
     "text": [
      "Count of records 5076\n",
      "Mean of the Horsepower: 270.49940898345153\n",
      "Median of the Horsepower: 266.0\n",
      "Mode of the Horsepower: 0    310\n",
      "dtype: int64\n",
      "The 5% trimmed mean of Horsepower: 265.59312759903696\n",
      "The 10% trimmed mean of Horsepower: 263.68825412459984\n"
     ]
    }
   ],
   "source": [
    "#creating col1 with Horsepower  column of the data set\n",
    "col1=df['Engine Information.Engine Statistics.Horsepower']\n",
    "\n",
    "#counting no of records in Horsepower coloumn\n",
    "print(\"Count of records\",col1.count())\n",
    "\n",
    "#calculating the mean of col1\n",
    "print(\"Mean of the Horsepower:\",col1.mean())\n",
    "\n",
    "#calculating the median of col1\n",
    "print(\"Median of the Horsepower:\",col1.median())\n",
    "\n",
    "#calculating the mode of col1\n",
    "print(\"Mode of the Horsepower:\",col1.mode())\n",
    "\n",
    "\n",
    "#Calculating trimmed mean of Horse power column by ignoring 5% of data at the begining and end\n",
    "\n",
    "#sorting values of column Horsepower\n",
    "df2 = df.sort_values(by='Engine Information.Engine Statistics.Horsepower').copy()\n",
    "\n",
    "#sorting values of column Horsepower by ignoring index \n",
    "df2 = df.sort_values(by='Engine Information.Engine Statistics.Horsepower',ignore_index=True).copy()\n",
    "#df2['Engine Information.Engine Statistics.Horsepower'].head()\n",
    "#calculating trimmed mean\n",
    "print(\"The 5% trimmed mean of Horsepower:\",df2.loc[int(0.05*5075):int(0.95*5075),'Engine Information.Engine Statistics.Horsepower'].mean())\n",
    "print(\"The 10% trimmed mean of Horsepower:\",df2.loc[int(0.1*5075):int(0.9*5075),'Engine Information.Engine Statistics.Horsepower'].mean())"
   ]
  },
  {
   "cell_type": "code",
   "execution_count": 7,
   "id": "0d07a006-131a-4a50-883a-05570592b6af",
   "metadata": {},
   "outputs": [
    {
     "name": "stdout",
     "output_type": "stream",
     "text": [
      "The 50% quantile= 266.0\n",
      "The 25% quantile= 190.0\n",
      "The 75% quantile= 317.0\n"
     ]
    },
    {
     "data": {
      "image/png": "[encoded data removed]",
      "text/plain": [
       "<Figure size 432x288 with 1 Axes>"
      ]
     },
     "metadata": {
      "needs_background": "light"
     },
     "output_type": "display_data"
    }
   ],
   "source": [
    "#Histogram plot of col1\n",
    "col1.plot(kind='hist',bins=30, title='horse power Frequency')\n",
    "print(\"The 50% quantile=\",col1.quantile())\n",
    "print(\"The 25% quantile=\",col1.quantile(0.25))\n",
    "print(\"The 75% quantile=\",col1.quantile(0.75))\n",
    "#Median of Horse power column is equal to the 50% quantile\n",
    "#Mean and Mode falls on the right side of Median in the histogram channel\n",
    "#5% and 10% trimmed mean falls on the left side of median\n",
    "\n"
   ]
  },
  {
   "cell_type": "code",
   "execution_count": 8,
   "id": "b79f6d8d-91f1-4415-ba67-61139ae9f865",
   "metadata": {},
   "outputs": [
    {
     "name": "stdout",
     "output_type": "stream",
     "text": [
      "The Mean aboslute deviation of column Horse Power= 74.82896125465031\n",
      "The standard deviation of column Horse Power= 95.29353665243752\n",
      "the difference of the 75% and 25% quantile= 127.0\n"
     ]
    }
   ],
   "source": [
    "#Caluclating Mean Absolute Deviation and Standrad deviation\n",
    "print(\"The Mean aboslute deviation of column Horse Power=\",col1.mad())\n",
    "print(\"The standard deviation of column Horse Power=\",col1.std())\n",
    "\n",
    "#Calculating the interquartile range (the difference of the 75% and 25% quantile)\n",
    "\n",
    "print(\"the difference of the 75% and 25% quantile=\",col1.quantile(0.75)-col1.quantile(0.25))\n",
    "\n",
    "#Mean absolute deviation is less than, standard deviation and interquartile range"
   ]
  },
  {
   "cell_type": "code",
   "execution_count": 9,
   "id": "d13508c8-86c8-4f41-96b8-731e92112196",
   "metadata": {},
   "outputs": [
    {
     "data": {
      "text/plain": [
       "<AxesSubplot:>"
      ]
     },
     "execution_count": 9,
     "metadata": {},
     "output_type": "execute_result"
    },
    {
     "data": {
      "image/png": "[encoded data removed]",
      "text/plain": [
       "<Figure size 432x288 with 1 Axes>"
      ]
     },
     "metadata": {
      "needs_background": "light"
     },
     "output_type": "display_data"
    }
   ],
   "source": [
    "#Box plot of Horse power column (col1)\n",
    "df['Engine Information.Engine Statistics.Horsepower'].plot(kind='box')"
   ]
  },
  {
   "cell_type": "markdown",
   "id": "d575e10e-dfc7-4d80-85c0-ee0ba6e407bb",
   "metadata": {},
   "source": [
    "Here the box goes from Q1 to Q3 (190 to 317), The caluclated median matches with the green line inside the box."
   ]
  },
  {
   "cell_type": "code",
   "execution_count": 10,
   "id": "2bc34422-073b-4aaa-ac67-91a59dd6dea7",
   "metadata": {},
   "outputs": [],
   "source": [
    "splitvalue = []"
   ]
  },
  {
   "cell_type": "code",
   "execution_count": 11,
   "id": "d6c6b5ea-176d-44a8-aa6d-2e35d2c0fb89",
   "metadata": {},
   "outputs": [],
   "source": [
    "#Making a new column 'COL1_mean_split'\n",
    "#If the COL1 value < 0.5 * (COL1 mean), set the COL1_mean_split value to 0\n",
    "#If the COL1 value >= 0.5 * (COL1 mean) and COL1 value < (COL1 mean), set the COL1_mean_split value to 1\n",
    "#If the COL1 value >= (COL1 mean), set the COL1_mean_split value to 2\n",
    "\n",
    "\n",
    "#Creating a function to assign split value to the new column based on the row value\n",
    "splitvalue = []\n",
    "for row in df['Engine Information.Engine Statistics.Horsepower']:\n",
    "        if row < 0.5 * (col1.mean()):    splitvalue.append('0')\n",
    "        elif row > 0.5 * (col1.mean()) and row < col1.mean():   splitvalue.append('1')\n",
    "        elif row >col1.mean():  splitvalue.append('2')\n",
    "    \n"
   ]
  },
  {
   "cell_type": "code",
   "execution_count": 12,
   "id": "db92dc6c-da1c-4daa-820b-c6e7603e630c",
   "metadata": {},
   "outputs": [],
   "source": [
    "#assigning new values to new column '\n",
    "df['COL1_mean_split value'] = splitvalue\n",
    "\n"
   ]
  },
  {
   "cell_type": "code",
   "execution_count": 13,
   "id": "d06bf1af-6c43-42f8-9f6f-86e96c324fdd",
   "metadata": {},
   "outputs": [
    {
     "name": "stdout",
     "output_type": "stream",
     "text": [
      "0       1\n",
      "1       1\n",
      "2       1\n",
      "3       1\n",
      "4       1\n",
      "       ..\n",
      "5071    1\n",
      "5072    2\n",
      "5073    2\n",
      "5074    2\n",
      "5075    2\n",
      "Name: COL1_mean_split value, Length: 5076, dtype: object\n"
     ]
    }
   ],
   "source": [
    "#printing new column values\n",
    "print(df['COL1_mean_split value'])"
   ]
  },
  {
   "cell_type": "code",
   "execution_count": 14,
   "id": "05ee3955-3989-4e2d-8536-682d27fb4d6b",
   "metadata": {},
   "outputs": [
    {
     "data": {
      "text/plain": [
       "Text(0, 0.5, 'Frequency')"
      ]
     },
     "execution_count": 14,
     "metadata": {},
     "output_type": "execute_result"
    },
    {
     "data": {
      "image/png": "[encoded data removed]",
      "text/plain": [
       "<Figure size 1008x576 with 1 Axes>"
      ]
     },
     "metadata": {
      "needs_background": "light"
     },
     "output_type": "display_data"
    }
   ],
   "source": [
    "#ploting count of 'col1_mean_split value' using bar chart\n",
    "ax = df['COL1_mean_split value'].value_counts().plot(kind='bar',\n",
    "                                    figsize=(14,8),\n",
    "                                    title=\"Bar graph of count\")\n",
    "ax.set_xlabel(\"mean split value\")\n",
    "ax.set_ylabel(\"Frequency\")"
   ]
  },
  {
   "cell_type": "code",
   "execution_count": 15,
   "id": "5812a9fc-cb08-4da8-b73a-ee77ceb401f0",
   "metadata": {},
   "outputs": [
    {
     "data": {
      "image/png": "[encoded data removed]",
      "text/plain": [
       "<Figure size 432x288 with 1 Axes>"
      ]
     },
     "metadata": {
      "needs_background": "light"
     },
     "output_type": "display_data"
    }
   ],
   "source": [
    "#Creating Box plot\n",
    "\n",
    "#ploting count of 'col1_mean_split value' using box chart\n",
    "\n",
    "boxplot = df.boxplot(column=['Engine Information.Engine Statistics.Horsepower'], by=['COL1_mean_split value'])"
   ]
  },
  {
   "cell_type": "code",
   "execution_count": 16,
   "id": "a97b7e61-ceca-4a98-9b9c-21f8e8c10f07",
   "metadata": {},
   "outputs": [
    {
     "data": {
      "text/html": [
       "<div>\n",
       "<style scoped>\n",
       "    .dataframe tbody tr th:only-of-type {\n",
       "        vertical-align: middle;\n",
       "    }\n",
       "\n",
       "    .dataframe tbody tr th {\n",
       "        vertical-align: top;\n",
       "    }\n",
       "\n",
       "    .dataframe thead th {\n",
       "        text-align: right;\n",
       "    }\n",
       "</style>\n",
       "<table border=\"1\" class=\"dataframe\">\n",
       "  <thead>\n",
       "    <tr style=\"text-align: right;\">\n",
       "      <th></th>\n",
       "      <th>Engine Information.Engine Statistics.Horsepower</th>\n",
       "      <th>Engine Information.Engine Statistics.Torque</th>\n",
       "    </tr>\n",
       "  </thead>\n",
       "  <tbody>\n",
       "    <tr>\n",
       "      <th>Engine Information.Engine Statistics.Horsepower</th>\n",
       "      <td>1.000000</td>\n",
       "      <td>0.938304</td>\n",
       "    </tr>\n",
       "    <tr>\n",
       "      <th>Engine Information.Engine Statistics.Torque</th>\n",
       "      <td>0.938304</td>\n",
       "      <td>1.000000</td>\n",
       "    </tr>\n",
       "  </tbody>\n",
       "</table>\n",
       "</div>"
      ],
      "text/plain": [
       "                                                 Engine Information.Engine Statistics.Horsepower  \\\n",
       "Engine Information.Engine Statistics.Horsepower                                         1.000000   \n",
       "Engine Information.Engine Statistics.Torque                                             0.938304   \n",
       "\n",
       "                                                 Engine Information.Engine Statistics.Torque  \n",
       "Engine Information.Engine Statistics.Horsepower                                     0.938304  \n",
       "Engine Information.Engine Statistics.Torque                                         1.000000  "
      ]
     },
     "execution_count": 16,
     "metadata": {},
     "output_type": "execute_result"
    }
   ],
   "source": [
    "#Engine Information.Engine Statistics.Torque is the col3\n",
    "#Calculating correlation between Torque and Horsepower\n",
    "df[['Engine Information.Engine Statistics.Horsepower','Engine Information.Engine Statistics.Torque']].corr()"
   ]
  },
  {
   "cell_type": "markdown",
   "id": "910d6366-37c7-4840-ab9c-db82826ec3cd",
   "metadata": {},
   "source": [
    "There is very good correlation between Horsepower and Torque"
   ]
  },
  {
   "cell_type": "code",
   "execution_count": 17,
   "id": "0dfe71a4-b329-4987-9b6c-824739c173da",
   "metadata": {},
   "outputs": [
    {
     "data": {
      "text/plain": [
       "<AxesSubplot:xlabel='Engine Information.Engine Statistics.Horsepower', ylabel='Engine Information.Engine Statistics.Torque'>"
      ]
     },
     "execution_count": 17,
     "metadata": {},
     "output_type": "execute_result"
    },
    {
     "data": {
      "image/png": "[encoded data removed]",
      "text/plain": [
       "<Figure size 432x288 with 1 Axes>"
      ]
     },
     "metadata": {
      "needs_background": "light"
     },
     "output_type": "display_data"
    }
   ],
   "source": [
    "#Scatter plot of Horsepower vs Torque col1 vs col3\n",
    "df.plot(kind='scatter',\n",
    "        x='Engine Information.Engine Statistics.Horsepower',\n",
    "        y='Engine Information.Engine Statistics.Torque')"
   ]
  },
  {
   "cell_type": "markdown",
   "id": "db02ac33-5207-4d61-ab8d-8c34feef5d86",
   "metadata": {},
   "source": [
    "Above scatter plot indicates strong correlation between Horse power and torque"
   ]
  },
  {
   "cell_type": "code",
   "execution_count": 35,
   "id": "fa3b486a-9275-488e-afba-2697a5a6a171",
   "metadata": {},
   "outputs": [
    {
     "data": {
      "text/plain": [
       "Text(0, 0.5, 'Torque')"
      ]
     },
     "execution_count": 35,
     "metadata": {},
     "output_type": "execute_result"
    },
    {
     "data": {
      "image/png": "[encoded data removed]",
      "text/plain": [
       "<Figure size 432x288 with 2 Axes>"
      ]
     },
     "metadata": {
      "needs_background": "light"
     },
     "output_type": "display_data"
    }
   ],
   "source": [
    "#Make a hexagonal binning plot of COL1 vs COL3\n",
    "ax = df.plot.hexbin('Engine Information.Engine Statistics.Horsepower', 'Engine Information.Engine Statistics.Torque', gridsize=10)\n",
    "ax.set_xlabel(\"Horse power\")\n",
    "ax.set_ylabel(\"Torque\")"
   ]
  },
  {
   "cell_type": "code",
   "execution_count": 47,
   "id": "264ab2a8-e51a-4c78-a799-4c45d8c1b090",
   "metadata": {},
   "outputs": [
    {
     "data": {
      "text/plain": [
       "<seaborn.axisgrid.FacetGrid at 0x21289db6640>"
      ]
     },
     "execution_count": 47,
     "metadata": {},
     "output_type": "execute_result"
    },
    {
     "data": {
      "image/png": "[encoded data removed]",
      "text/plain": [
       "<Figure size 648x216 with 3 Axes>"
      ]
     },
     "metadata": {
      "needs_background": "light"
     },
     "output_type": "display_data"
    }
   ],
   "source": [
    "#BONUS POINT (optional):\n",
    "#Make a facet grid using the seaborn library, \n",
    "#where you plot a hexagonal binning plot of COL1 and COL3 grouped into different facets based on the three values of COL1_mean_split\n",
    "\n",
    "import seaborn as sns\n",
    "import matplotlib.pyplot as plt\n",
    "\n",
    "\n",
    "g = sns.FacetGrid(df, col=\"COL1_mean_split value\")\n",
    "\n",
    "g.map(sns.scatterplot, \"Engine Information.Engine Statistics.Horsepower\", \"Engine Information.Engine Statistics.Torque\")\n"
   ]
  },
  {
   "cell_type": "code",
   "execution_count": null,
   "id": "3b8236a9-013d-4a5f-ad47-caf0e35f2cdc",
   "metadata": {},
   "outputs": [],
   "source": [
    "g = sns.FacetGrid(df, col=\"COL1_mean_split value\")\n",
    "x = df[\"Engine Information.Engine Statistics.Horsepower\"]\n",
    "y = df[\"Engine Information.Engine Statistics.Torque\"]\n",
    "\n",
    "sns.jointplot (x=x,y=y, kind=\"hex\", color=\"#4CB391\")"
   ]
  },
  {
   "cell_type": "markdown",
   "id": "099ad3ed-dd4d-44b4-a7c9-6aa470e7b69d",
   "metadata": {},
   "source": [
    "Hi Professor i tried my best to do the last optional plot, but i am able to plot only scatter but not Hexagonal Bin"
   ]
  }
 ],
 "metadata": {
  "kernelspec": {
   "display_name": "Python 3 (ipykernel)",
   "language": "python",
   "name": "python3"
  },
  "language_info": {
   "codemirror_mode": {
    "name": "ipython",
    "version": 3
   },
   "file_extension": ".py",
   "mimetype": "text/x-python",
   "name": "python",
   "nbconvert_exporter": "python",
   "pygments_lexer": "ipython3",
   "version": "3.9.7"
  }
 },
 "nbformat": 4,
 "nbformat_minor": 5
}
