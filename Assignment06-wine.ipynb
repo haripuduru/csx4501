{
 "cells": [
  {
   "cell_type": "code",
   "execution_count": 41,
   "id": "b3bd8742-eeb2-44d1-9c6f-8c561750a09e",
   "metadata": {},
   "outputs": [
    {
     "name": "stdout",
     "output_type": "stream",
     "text": [
      ".. _wine_dataset:\n",
      "\n",
      "Wine recognition dataset\n",
      "------------------------\n",
      "\n",
      "**Data Set Characteristics:**\n",
      "\n",
      "    :Number of Instances: 178 (50 in each of three classes)\n",
      "    :Number of Attributes: 13 numeric, predictive attributes and the class\n",
      "    :Attribute Information:\n",
      " \t\t- Alcohol\n",
      " \t\t- Malic acid\n",
      " \t\t- Ash\n",
      "\t\t- Alcalinity of ash  \n",
      " \t\t- Magnesium\n",
      "\t\t- Total phenols\n",
      " \t\t- Flavanoids\n",
      " \t\t- Nonflavanoid phenols\n",
      " \t\t- Proanthocyanins\n",
      "\t\t- Color intensity\n",
      " \t\t- Hue\n",
      " \t\t- OD280/OD315 of diluted wines\n",
      " \t\t- Proline\n",
      "\n",
      "    - class:\n",
      "            - class_0\n",
      "            - class_1\n",
      "            - class_2\n",
      "\t\t\n",
      "    :Summary Statistics:\n",
      "    \n",
      "    ============================= ==== ===== ======= =====\n",
      "                                   Min   Max   Mean     SD\n",
      "    ============================= ==== ===== ======= =====\n",
      "    Alcohol:                      11.0  14.8    13.0   0.8\n",
      "    Malic Acid:                   0.74  5.80    2.34  1.12\n",
      "    Ash:                          1.36  3.23    2.36  0.27\n",
      "    Alcalinity of Ash:            10.6  30.0    19.5   3.3\n",
      "    Magnesium:                    70.0 162.0    99.7  14.3\n",
      "    Total Phenols:                0.98  3.88    2.29  0.63\n",
      "    Flavanoids:                   0.34  5.08    2.03  1.00\n",
      "    Nonflavanoid Phenols:         0.13  0.66    0.36  0.12\n",
      "    Proanthocyanins:              0.41  3.58    1.59  0.57\n",
      "    Colour Intensity:              1.3  13.0     5.1   2.3\n",
      "    Hue:                          0.48  1.71    0.96  0.23\n",
      "    OD280/OD315 of diluted wines: 1.27  4.00    2.61  0.71\n",
      "    Proline:                       278  1680     746   315\n",
      "    ============================= ==== ===== ======= =====\n",
      "\n",
      "    :Missing Attribute Values: None\n",
      "    :Class Distribution: class_0 (59), class_1 (71), class_2 (48)\n",
      "    :Creator: R.A. Fisher\n",
      "    :Donor: Michael Marshall (MARSHALL%PLU@io.arc.nasa.gov)\n",
      "    :Date: July, 1988\n",
      "\n",
      "This is a copy of UCI ML Wine recognition datasets.\n",
      "https://archive.ics.uci.edu/ml/machine-learning-databases/wine/wine.data\n",
      "\n",
      "The data is the results of a chemical analysis of wines grown in the same\n",
      "region in Italy by three different cultivators. There are thirteen different\n",
      "measurements taken for different constituents found in the three types of\n",
      "wine.\n",
      "\n",
      "Original Owners: \n",
      "\n",
      "Forina, M. et al, PARVUS - \n",
      "An Extendible Package for Data Exploration, Classification and Correlation. \n",
      "Institute of Pharmaceutical and Food Analysis and Technologies,\n",
      "Via Brigata Salerno, 16147 Genoa, Italy.\n",
      "\n",
      "Citation:\n",
      "\n",
      "Lichman, M. (2013). UCI Machine Learning Repository\n",
      "[https://archive.ics.uci.edu/ml]. Irvine, CA: University of California,\n",
      "School of Information and Computer Science. \n",
      "\n",
      ".. topic:: References\n",
      "\n",
      "  (1) S. Aeberhard, D. Coomans and O. de Vel, \n",
      "  Comparison of Classifiers in High Dimensional Settings, \n",
      "  Tech. Rep. no. 92-02, (1992), Dept. of Computer Science and Dept. of  \n",
      "  Mathematics and Statistics, James Cook University of North Queensland. \n",
      "  (Also submitted to Technometrics). \n",
      "\n",
      "  The data was used with many others for comparing various \n",
      "  classifiers. The classes are separable, though only RDA \n",
      "  has achieved 100% correct classification. \n",
      "  (RDA : 100%, QDA 99.4%, LDA 98.9%, 1NN 96.1% (z-transformed data)) \n",
      "  (All results using the leave-one-out technique) \n",
      "\n",
      "  (2) S. Aeberhard, D. Coomans and O. de Vel, \n",
      "  \"THE CLASSIFICATION PERFORMANCE OF RDA\" \n",
      "  Tech. Rep. no. 92-01, (1992), Dept. of Computer Science and Dept. of \n",
      "  Mathematics and Statistics, James Cook University of North Queensland. \n",
      "  (Also submitted to Journal of Chemometrics).\n",
      "\n"
     ]
    }
   ],
   "source": [
    "#Import scikit-learn's example wine dataset with the following code:\n",
    "import pandas as pd\n",
    "import matplotlib.pyplot as plt\n",
    "import sklearn.datasets\n",
    "wine = sklearn.datasets.load_wine()\n",
    "\n",
    "#Print a description of the dataset with:\n",
    "print(wine.DESCR)\n",
    "#Get the features and target arrays with:\n",
    "x = wine.data\n",
    "\n",
    "y = wine.target"
   ]
  },
  {
   "cell_type": "code",
   "execution_count": 2,
   "id": "fe9ecb85-d0a5-4946-bb3d-e7a5479f9b39",
   "metadata": {},
   "outputs": [],
   "source": [
    "#It will also be useful to scale the x data so that all of the features have a mean value of 0 \n",
    "# and a standard deviation of 1.  To do this, execute the following:\n",
    "import sklearn.preprocessing\n",
    "x = sklearn.preprocessing.StandardScaler().fit_transform(x)"
   ]
  },
  {
   "cell_type": "code",
   "execution_count": 40,
   "id": "c7285d64-80fa-4e3a-b962-317a948229f0",
   "metadata": {},
   "outputs": [
    {
     "name": "stdout",
     "output_type": "stream",
     "text": [
      "(178, 1)\n",
      "(178,)\n"
     ]
    }
   ],
   "source": [
    "#Print the array dimensions of x and y\n",
    "\n",
    "print(x.shape)\n",
    "print(y.shape)\n"
   ]
  },
  {
   "cell_type": "code",
   "execution_count": 4,
   "id": "89f21cc2-6672-4331-abd9-06daf72d3c8e",
   "metadata": {},
   "outputs": [
    {
     "data": {
      "image/png": "[encoded data removed]",
      "text/plain": [
       "<Figure size 432x288 with 1 Axes>"
      ]
     },
     "metadata": {
      "needs_background": "light"
     },
     "output_type": "display_data"
    }
   ],
   "source": [
    "# Make histogram plots that show how a given feature in x is distributed for each of the three wine classes.  \n",
    "#You can do this with the following code:\n",
    "\n",
    "i = 0   # to plot the 1st feature\n",
    "plt.hist(x[(y==0),i], alpha=0.5, color='green', label='class_0')\n",
    "plt.hist(x[(y==1),i], alpha=0.5, color='blue', label='class_1')\n",
    "plt.hist(x[(y==2),i], alpha=0.5, color='red', label='class_2')\n",
    "plt.legend()\n",
    "plt.show()"
   ]
  },
  {
   "cell_type": "code",
   "execution_count": 15,
   "id": "c9407d30-123c-4acf-92d3-7d35071b9549",
   "metadata": {},
   "outputs": [
    {
     "data": {
      "image/png": "[encoded data removed]",
      "text/plain": [
       "<Figure size 432x288 with 1 Axes>"
      ]
     },
     "metadata": {
      "needs_background": "light"
     },
     "output_type": "display_data"
    }
   ],
   "source": [
    "i = 1   # to plot the 2nd feature\n",
    "plt.hist(x[(y==0),i], alpha=0.5, color='green', label='class_0')\n",
    "plt.hist(x[(y==1),i], alpha=0.5, color='blue', label='class_1')\n",
    "plt.hist(x[(y==2),i], alpha=0.5, color='red', label='class_2')\n",
    "plt.legend()\n",
    "plt.show()"
   ]
  },
  {
   "cell_type": "code",
   "execution_count": 18,
   "id": "f434fc53-3846-44aa-b212-c1e9450120f7",
   "metadata": {},
   "outputs": [
    {
     "data": {
      "image/png": "[encoded data removed]",
      "text/plain": [
       "<Figure size 432x288 with 1 Axes>"
      ]
     },
     "metadata": {
      "needs_background": "light"
     },
     "output_type": "display_data"
    }
   ],
   "source": [
    "i = 2   # to plot the 3rd feature\n",
    "plt.hist(x[(y==0),i], alpha=0.5, color='green', label='class_0')\n",
    "plt.hist(x[(y==1),i], alpha=0.5, color='blue', label='class_1')\n",
    "plt.hist(x[(y==2),i], alpha=0.5, color='red', label='class_2')\n",
    "plt.legend()\n",
    "plt.show()"
   ]
  },
  {
   "cell_type": "code",
   "execution_count": null,
   "id": "483f2b4b-685c-40af-88d1-f05f86a507ff",
   "metadata": {},
   "outputs": [],
   "source": [
    "i = 3   # to plot the 4th feature\n",
    "plt.hist(x[(y==0),i], alpha=0.5, color='green', label='class_0')\n",
    "plt.hist(x[(y==1),i], alpha=0.5, color='blue', label='class_1')\n",
    "plt.hist(x[(y==2),i], alpha=0.5, color='red', label='class_2')\n",
    "plt.legend()\n",
    "plt.show()"
   ]
  },
  {
   "cell_type": "code",
   "execution_count": null,
   "id": "f19aef4e-2e99-4665-8103-3ded4f366068",
   "metadata": {},
   "outputs": [],
   "source": [
    "i = 4   # to plot the 5th feature\n",
    "plt.hist(x[(y==0),i], alpha=0.5, color='green', label='class_0')\n",
    "plt.hist(x[(y==1),i], alpha=0.5, color='blue', label='class_1')\n",
    "plt.hist(x[(y==2),i], alpha=0.5, color='red', label='class_2')\n",
    "plt.legend()\n",
    "plt.show()"
   ]
  },
  {
   "cell_type": "code",
   "execution_count": null,
   "id": "7281b21b-a757-4007-b459-26e42adfae01",
   "metadata": {},
   "outputs": [],
   "source": [
    "i = 5   # to plot the 6th feature\n",
    "plt.hist(x[(y==0),i], alpha=0.5, color='green', label='class_0')\n",
    "plt.hist(x[(y==1),i], alpha=0.5, color='blue', label='class_1')\n",
    "plt.hist(x[(y==2),i], alpha=0.5, color='red', label='class_2')\n",
    "plt.legend()\n",
    "plt.show()"
   ]
  },
  {
   "cell_type": "code",
   "execution_count": null,
   "id": "d5ec7fcd-d086-41a1-b472-5a789089d795",
   "metadata": {},
   "outputs": [],
   "source": [
    "i = 6   # to plot the 7th feature\n",
    "plt.hist(x[(y==0),i], alpha=0.5, color='green', label='class_0')\n",
    "plt.hist(x[(y==1),i], alpha=0.5, color='blue', label='class_1')\n",
    "plt.hist(x[(y==2),i], alpha=0.5, color='red', label='class_2')\n",
    "plt.legend()\n",
    "plt.show()"
   ]
  },
  {
   "cell_type": "code",
   "execution_count": null,
   "id": "ac76b643-9db4-4ceb-9448-b74442fb77e9",
   "metadata": {},
   "outputs": [],
   "source": [
    "i = 7   # to plot the 8th feature\n",
    "plt.hist(x[(y==0),i], alpha=0.5, color='green', label='class_0')\n",
    "plt.hist(x[(y==1),i], alpha=0.5, color='blue', label='class_1')\n",
    "plt.hist(x[(y==2),i], alpha=0.5, color='red', label='class_2')\n",
    "plt.legend()\n",
    "plt.show()"
   ]
  },
  {
   "cell_type": "code",
   "execution_count": null,
   "id": "2b6beb65-32f9-4fae-a8a0-b33be8a50a3e",
   "metadata": {},
   "outputs": [],
   "source": [
    "i = 8   # to plot the 9th feature\n",
    "plt.hist(x[(y==0),i], alpha=0.5, color='green', label='class_0')\n",
    "plt.hist(x[(y==1),i], alpha=0.5, color='blue', label='class_1')\n",
    "plt.hist(x[(y==2),i], alpha=0.5, color='red', label='class_2')\n",
    "plt.legend()\n",
    "plt.show()"
   ]
  },
  {
   "cell_type": "code",
   "execution_count": null,
   "id": "fd3f119c-4e8f-4568-85f7-b1169ea0f21b",
   "metadata": {},
   "outputs": [],
   "source": [
    "i = 9   # to plot the 10th feature\n",
    "plt.hist(x[(y==0),i], alpha=0.5, color='green', label='class_0')\n",
    "plt.hist(x[(y==1),i], alpha=0.5, color='blue', label='class_1')\n",
    "plt.hist(x[(y==2),i], alpha=0.5, color='red', label='class_2')\n",
    "plt.legend()\n",
    "plt.show()"
   ]
  },
  {
   "cell_type": "code",
   "execution_count": null,
   "id": "4f4ed17b-1a04-4c69-9edb-67fabc4ee980",
   "metadata": {},
   "outputs": [],
   "source": [
    "i = 10   # to plot the 11th feature\n",
    "plt.hist(x[(y==0),i], alpha=0.5, color='green', label='class_0')\n",
    "plt.hist(x[(y==1),i], alpha=0.5, color='blue', label='class_1')\n",
    "plt.hist(x[(y==2),i], alpha=0.5, color='red', label='class_2')\n",
    "plt.legend()\n",
    "plt.show()"
   ]
  },
  {
   "cell_type": "code",
   "execution_count": 17,
   "id": "2ad34193-1f40-457a-8385-e113a5e1e5e8",
   "metadata": {},
   "outputs": [
    {
     "data": {
      "image/png": "[encoded data removed]",
      "text/plain": [
       "<Figure size 432x288 with 1 Axes>"
      ]
     },
     "metadata": {
      "needs_background": "light"
     },
     "output_type": "display_data"
    }
   ],
   "source": [
    "i = 11   # to plot the 12th feature\n",
    "plt.hist(x[(y==0),i], alpha=0.5, color='green', label='class_0')\n",
    "plt.hist(x[(y==1),i], alpha=0.5, color='blue', label='class_1')\n",
    "plt.hist(x[(y==2),i], alpha=0.5, color='red', label='class_2')\n",
    "plt.legend()\n",
    "plt.show()"
   ]
  },
  {
   "cell_type": "code",
   "execution_count": 16,
   "id": "6c5d7b17-f0cc-493a-9881-49811a7da9ca",
   "metadata": {},
   "outputs": [
    {
     "data": {
      "image/png": "[encoded data removed]",
      "text/plain": [
       "<Figure size 432x288 with 1 Axes>"
      ]
     },
     "metadata": {
      "needs_background": "light"
     },
     "output_type": "display_data"
    }
   ],
   "source": [
    "i = 12   # to plot the 13th feature\n",
    "plt.hist(x[(y==0),i], alpha=0.5, color='green', label='class_0')\n",
    "plt.hist(x[(y==1),i], alpha=0.5, color='blue', label='class_1')\n",
    "plt.hist(x[(y==2),i], alpha=0.5, color='red', label='class_2')\n",
    "plt.legend()\n",
    "plt.show()"
   ]
  },
  {
   "cell_type": "markdown",
   "id": "e3d695c1-ec2b-43fe-9898-5dfc47284d16",
   "metadata": {},
   "source": [
    "### classification with LogisticRegression using all 13 features"
   ]
  },
  {
   "cell_type": "code",
   "execution_count": 7,
   "id": "0936ae24-6135-4a3b-8bad-245e36c7c59e",
   "metadata": {},
   "outputs": [],
   "source": [
    "#Splitting the data into train set and test set\n",
    "from sklearn.model_selection import train_test_split\n",
    "x_train, x_test, y_train, y_test = train_test_split(x, y, test_size = 0.25, random_state = 0)"
   ]
  },
  {
   "cell_type": "code",
   "execution_count": 9,
   "id": "02532173-7a7c-40fc-a035-8fff3aef22dd",
   "metadata": {},
   "outputs": [
    {
     "name": "stdout",
     "output_type": "stream",
     "text": [
      "[[16  0  0]\n",
      " [ 0 21  0]\n",
      " [ 0  0  8]]\n"
     ]
    }
   ],
   "source": [
    "from sklearn.preprocessing import StandardScaler\n",
    "sc_x = StandardScaler()\n",
    "x_train = sc_x.fit_transform(x_train)\n",
    "x_test = sc_x.transform(x_test)\n",
    "\n",
    "from sklearn.linear_model import LogisticRegression \n",
    "classifier = LogisticRegression(random_state = 0)\n",
    "classifier.fit(x_train,y_train)\n",
    "y_pred = classifier.predict(x_test)\n",
    "\n",
    "from sklearn.metrics import confusion_matrix\n",
    "cm = confusion_matrix(y_test,y_pred)\n",
    "print(cm)"
   ]
  },
  {
   "cell_type": "code",
   "execution_count": 12,
   "id": "f068992e-29b6-409a-9bc2-9b0062568da7",
   "metadata": {},
   "outputs": [
    {
     "name": "stdout",
     "output_type": "stream",
     "text": [
      "              precision    recall  f1-score   support\n",
      "\n",
      "           0       1.00      1.00      1.00        16\n",
      "           1       1.00      1.00      1.00        21\n",
      "           2       1.00      1.00      1.00         8\n",
      "\n",
      "    accuracy                           1.00        45\n",
      "   macro avg       1.00      1.00      1.00        45\n",
      "weighted avg       1.00      1.00      1.00        45\n",
      "\n"
     ]
    }
   ],
   "source": [
    "cm1 = sklearn.metrics.classification_report(y_test, y_pred)\n",
    "print(cm1)"
   ]
  },
  {
   "cell_type": "code",
   "execution_count": 13,
   "id": "61a09c6e-af1b-4e45-8364-1ba6cfea8109",
   "metadata": {},
   "outputs": [
    {
     "name": "stdout",
     "output_type": "stream",
     "text": [
      "Accuracy: 100.00%\n",
      "Precision: 100.00%\n",
      "Recall: 100.00%\n"
     ]
    }
   ],
   "source": [
    "print(f\"Accuracy: {sklearn.metrics.accuracy_score(y_test, y_pred):.2%}\")\n",
    "print(f\"Precision: {sklearn.metrics.precision_score(y_test, y_pred, average='micro'):.2%}\")\n",
    "print(f\"Recall: {sklearn.metrics.recall_score(y_test, y_pred, average='micro'):.2%}\")"
   ]
  },
  {
   "cell_type": "markdown",
   "id": "ca30d68b-94d1-4e6b-be6d-20afef6db914",
   "metadata": {},
   "source": [
    "###  classification with LogisticRegression using the one feature (3rd feature, Ash)"
   ]
  },
  {
   "cell_type": "code",
   "execution_count": 42,
   "id": "efc0eeae-c22c-4f20-bdf2-a3330e81a737",
   "metadata": {},
   "outputs": [],
   "source": [
    "x3 = wine.data[:, 1:2]\n",
    "\n",
    "y = wine.target"
   ]
  },
  {
   "cell_type": "code",
   "execution_count": 43,
   "id": "d97c7cc9-2547-4aff-8179-46ae17168066",
   "metadata": {},
   "outputs": [],
   "source": [
    "from sklearn.model_selection import train_test_split\n",
    "x3_train, x3_test, y_train, y_test = train_test_split(x3, y, test_size = 0.25, random_state = 0)"
   ]
  },
  {
   "cell_type": "code",
   "execution_count": 44,
   "id": "897e5253-e391-430c-bbbf-e52066fa2221",
   "metadata": {},
   "outputs": [
    {
     "name": "stdout",
     "output_type": "stream",
     "text": [
      "[[ 0 15  1]\n",
      " [ 0 18  3]\n",
      " [ 0  3  5]]\n"
     ]
    }
   ],
   "source": [
    "from sklearn.preprocessing import StandardScaler\n",
    "sc_x3 = StandardScaler()\n",
    "x3_train = sc_x3.fit_transform(x3_train)\n",
    "x3_test = sc_x3.transform(x3_test)\n",
    "\n",
    "from sklearn.linear_model import LogisticRegression \n",
    "classifier = LogisticRegression(random_state = 0)\n",
    "classifier.fit(x3_train,y_train)\n",
    "y_pred = classifier.predict(x3_test)\n",
    "\n",
    "from sklearn.metrics import confusion_matrix\n",
    "cm = confusion_matrix(y_test,y_pred)\n",
    "print(cm)"
   ]
  },
  {
   "cell_type": "code",
   "execution_count": 45,
   "id": "9c5ebf87-8ae2-4afb-9895-8039acc48f7c",
   "metadata": {},
   "outputs": [
    {
     "name": "stdout",
     "output_type": "stream",
     "text": [
      "              precision    recall  f1-score   support\n",
      "\n",
      "           0       0.00      0.00      0.00        16\n",
      "           1       0.50      0.86      0.63        21\n",
      "           2       0.56      0.62      0.59         8\n",
      "\n",
      "    accuracy                           0.51        45\n",
      "   macro avg       0.35      0.49      0.41        45\n",
      "weighted avg       0.33      0.51      0.40        45\n",
      "\n"
     ]
    },
    {
     "name": "stderr",
     "output_type": "stream",
     "text": [
      "C:\\Users\\SasiH\\anaconda3\\lib\\site-packages\\sklearn\\metrics\\_classification.py:1248: UndefinedMetricWarning: Precision and F-score are ill-defined and being set to 0.0 in labels with no predicted samples. Use `zero_division` parameter to control this behavior.\n",
      "  _warn_prf(average, modifier, msg_start, len(result))\n",
      "C:\\Users\\SasiH\\anaconda3\\lib\\site-packages\\sklearn\\metrics\\_classification.py:1248: UndefinedMetricWarning: Precision and F-score are ill-defined and being set to 0.0 in labels with no predicted samples. Use `zero_division` parameter to control this behavior.\n",
      "  _warn_prf(average, modifier, msg_start, len(result))\n",
      "C:\\Users\\SasiH\\anaconda3\\lib\\site-packages\\sklearn\\metrics\\_classification.py:1248: UndefinedMetricWarning: Precision and F-score are ill-defined and being set to 0.0 in labels with no predicted samples. Use `zero_division` parameter to control this behavior.\n",
      "  _warn_prf(average, modifier, msg_start, len(result))\n"
     ]
    }
   ],
   "source": [
    "cm2 = sklearn.metrics.classification_report(y_test, y_pred)\n",
    "print(cm2)"
   ]
  },
  {
   "cell_type": "code",
   "execution_count": 46,
   "id": "54f1a310-4383-4dea-871a-2a99a3d6eacd",
   "metadata": {},
   "outputs": [
    {
     "name": "stdout",
     "output_type": "stream",
     "text": [
      "Accuracy: 51.11%\n",
      "Precision: 51.11%\n",
      "Recall: 51.11%\n"
     ]
    }
   ],
   "source": [
    "print(f\"Accuracy: {sklearn.metrics.accuracy_score(y_test, y_pred):.2%}\")\n",
    "print(f\"Precision: {sklearn.metrics.precision_score(y_test, y_pred, average='micro'):.2%}\")\n",
    "print(f\"Recall: {sklearn.metrics.recall_score(y_test, y_pred, average='micro'):.2%}\")"
   ]
  },
  {
   "cell_type": "markdown",
   "id": "adacc1ee-7de8-49ca-ba4f-40cb686ade8f",
   "metadata": {},
   "source": [
    "### classification with 13 features has better Accuracy, precision and recall thant classification with one feature."
   ]
  },
  {
   "cell_type": "code",
   "execution_count": null,
   "id": "d9d1a352-7f6d-40e0-8e5a-98da7a80647c",
   "metadata": {},
   "outputs": [],
   "source": []
  }
 ],
 "metadata": {
  "kernelspec": {
   "display_name": "Python 3 (ipykernel)",
   "language": "python",
   "name": "python3"
  },
  "language_info": {
   "codemirror_mode": {
    "name": "ipython",
    "version": 3
   },
   "file_extension": ".py",
   "mimetype": "text/x-python",
   "name": "python",
   "nbconvert_exporter": "python",
   "pygments_lexer": "ipython3",
   "version": "3.9.7"
  }
 },
 "nbformat": 4,
 "nbformat_minor": 5
}
